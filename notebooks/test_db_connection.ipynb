{
 "cells": [
  {
   "attachments": {},
   "cell_type": "markdown",
   "id": "a5d7d2a7",
   "metadata": {},
   "source": [
    "## This notebook checks that Python is able to connect to the graph. Run the first two cells and Assuming this block runs (on an empty database) and returns 0 nodes in the graph, you are good to go!"
   ]
  },
  {
   "cell_type": "code",
   "execution_count": 1,
   "id": "7cffae6d",
   "metadata": {},
   "outputs": [],
   "source": [
    "from py2neo import Node, Graph"
   ]
  },
  {
   "cell_type": "code",
   "execution_count": 8,
   "id": "b31df1b0",
   "metadata": {},
   "outputs": [
    {
     "name": "stdout",
     "output_type": "stream",
     "text": [
      "Number of nodes in graph:  0\n"
     ]
    }
   ],
   "source": [
    "graph = Graph(\"bolt://neo4j:7687\", name=\"neo4j\", password=\"1234\")\n",
    "print('Number of nodes in graph: ', graph.nodes.match('Node').count())"
   ]
  },
  {
   "cell_type": "code",
   "execution_count": 9,
   "id": "e9d943ef",
   "metadata": {},
   "outputs": [],
   "source": [
    "from py2neo import Graph, Node, Relationship\n",
    "\n",
    "a = Node(\"Person\", name=\"Alice\", age=33)\n",
    "b = Node(\"Person\", name=\"Bob\", age=44)\n",
    "KNOWS = Relationship.type(\"KNOWS\")\n",
    "graph.merge(KNOWS(a, b), \"Person\", \"name\")"
   ]
  },
  {
   "cell_type": "code",
   "execution_count": 10,
   "id": "84c510a3",
   "metadata": {},
   "outputs": [],
   "source": [
    "c = Node(\"Company\", name=\"ACME\")\n",
    "c.__primarylabel__ = \"Company\"\n",
    "c.__primarykey__ = \"name\"\n",
    "WORKS_FOR = Relationship.type(\"WORKS_FOR\")\n",
    "graph.merge(WORKS_FOR(a, c) | WORKS_FOR(b, c))"
   ]
  },
  {
   "cell_type": "code",
   "execution_count": 14,
   "id": "1ed636c1",
   "metadata": {},
   "outputs": [
    {
     "data": {
      "text/plain": [
       "[{'a.name': 'Alice', 'a.born': None}, {'a.name': 'Bob', 'a.born': None}]"
      ]
     },
     "execution_count": 14,
     "metadata": {},
     "output_type": "execute_result"
    }
   ],
   "source": [
    "# print(graph.nodes[1234])\n",
    "\n",
    "# print(graph.nodes.get(1234))\n",
    "\n",
    "# print(graph.nodes.match(\"Person\", name=\"Alice\").first())\n",
    "\n",
    "graph.run(\"MATCH (a:Person) RETURN a.name, a.born LIMIT 4\").data()"
   ]
  },
  {
   "cell_type": "code",
   "execution_count": 22,
   "id": "9cfb5c4b",
   "metadata": {},
   "outputs": [],
   "source": [
    "\n",
    "'''\n",
    "Creating a new record for a movie\n",
    "The below following commands are do:\n",
    "1. Create a new movie node named as \" Die Hard\" with its released Date and tagline of the movie\n",
    "2. Creates another Person node and it is assigned a Role with different relationships such as Director,Producer. \n",
    "if the relationship is given as acted_in we assign a label to the person as the name of the person in the movie.\n",
    "'''\n",
    "\n",
    "q1=''' CREATE (DieHard:Movie {title:'Die Hard', released:1988, tagline:'On a good day he is a great cop'})'''\n",
    "q_10=\"\"\"CREATE (Bruce:Person {name:'Bruce Willis', born:1955})-[:ACTED_IN {roles:['John McClane']}]->(DieHard:Movie {title:'Die Hard', released:1988, tagline:'On a good day he is a great cop'})\"\"\"\n",
    "\n",
    "q_11=\"\"\" CREATE (Alan:Person {name:'Alan Rickman', born:1946})-[:ACTED_IN {roles:['Hans Gruber']}]->(DieHard:Movie {title:'Die Hard', released:1988, tagline:'On a good day he is a great cop'}) \"\"\"\n",
    "\n",
    "q_12=\"\"\"CREATE (Bonnie:Person {name:'Bonnie Bedelia', born:1948})-[:ACTED_IN {roles:['Holly Gennaro McClane']}]->(DieHard:Movie {title:'Die Hard', released:1988, tagline:'On a good day he is a great cop'}) \"\"\"\n",
    "q_13=\"\"\"CREATE (Regi:Person {name:'Reginald VelJohnson', born:1952})-[:ACTED_IN {roles:['Sgt. AL Powell']}]->(DieHard:Movie {title:'Die Hard', released:1988, tagline:'On a good day he is a great cop'})\"\"\"\n",
    "q_14=\"\"\"CREATE (John:Person {name:'John McTiernan', born:1951})-[:DIRECTED]->(DieHard:Movie {title:'Die Hard', released:1988, tagline:'On a good day he is a great cop'})\"\"\"\n",
    "q_15=\"\"\"CREATE (JoelS:Person {name:'Joel Silver', born:1952})-[:PRODUCED]->(DieHard:Movie {title:'Die Hard', released:1988, tagline:'On a good day he is a great cop'})\"\"\"\n",
    "q_16=\"\"\"CREATE (Lawrence:Person {name:'Lawrence Gordon', born:1936})-[:PRODUCED]->(DieHard:Movie {title:'Die Hard', released:1988, tagline:'On a good day he is a great cop'})\"\"\"\n",
    "\n",
    "'''\n",
    "    For inserting the data into the movie table I have created a list of queries which will attach few details about the cast/director/producer\n",
    "    to the movie.\n",
    "'''\n",
    "list_q=[q1,q_10,q_11,q_12,q_13,q_14,q_15,q_16]\n",
    "\n",
    "'''\n",
    "Retrieving some of the movies pertaining to a certain actor\n",
    "\n",
    "'''\n",
    "\n",
    "c_q1='''\n",
    "MATCH (movie:Movie) where{name:\"Tom Hanks\"} RETURN movie.title LIMIT 5\n",
    "'''\n",
    "\n",
    "c_q2='''\n",
    "MATCH (nineties:Movie) WHERE nineties.released >= 1990 AND nineties.released < 2000 RETURN nineties.title as MovieTitle,nineties.released as Released\n",
    "'''\n",
    "c_q3='''\n",
    "MATCH (bruce:Person {name: \"Bruce Willis\"})-[:ACTED_IN]->(bruceMovies) RETURN bruce,bruceMovies\n",
    "'''\n",
    "\n",
    "'''\n",
    "Delete all nodes and relationships from the graph database\n",
    "and to check if all nodes are disconnected or not\n",
    "\n",
    "\n",
    "'''\n",
    "delete_query=''' MATCH (n) DETACH DELETE n'''\n",
    "check_query=''' Match (n) return n '''\n",
    "\n",
    "lq=[]\n",
    "\n"
   ]
  },
  {
   "cell_type": "code",
   "execution_count": 29,
   "id": "7722a80d",
   "metadata": {},
   "outputs": [],
   "source": [
    "for query in list_q:\n",
    "    try:\n",
    "        graph.run(query).stats()\n",
    "    except:\n",
    "        print(\"Error in uploading a new information\")\n"
   ]
  },
  {
   "cell_type": "code",
   "execution_count": 32,
   "id": "622af0e3",
   "metadata": {},
   "outputs": [
    {
     "data": {
      "text/plain": [
       "[]"
      ]
     },
     "execution_count": 32,
     "metadata": {},
     "output_type": "execute_result"
    }
   ],
   "source": [
    "# results = graph.run(c_q3).data()\n",
    "# results\n",
    "movieresults = graph.run(c_q2).data()\n",
    "movieresults"
   ]
  },
  {
   "cell_type": "code",
   "execution_count": null,
   "id": "c6201b34",
   "metadata": {},
   "outputs": [],
   "source": []
  }
 ],
 "metadata": {
  "kernelspec": {
   "display_name": "Python 3 (ipykernel)",
   "language": "python",
   "name": "python3"
  },
  "language_info": {
   "codemirror_mode": {
    "name": "ipython",
    "version": 3
   },
   "file_extension": ".py",
   "mimetype": "text/x-python",
   "name": "python",
   "nbconvert_exporter": "python",
   "pygments_lexer": "ipython3",
   "version": "3.10.8"
  }
 },
 "nbformat": 4,
 "nbformat_minor": 5
}
